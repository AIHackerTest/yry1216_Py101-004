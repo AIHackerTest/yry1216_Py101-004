{
 "cells": [
  {
   "cell_type": "code",
   "execution_count": 1,
   "metadata": {
    "collapsed": true
   },
   "outputs": [],
   "source": [
    "# -*- coding:utf8 -*-"
   ]
  },
  {
   "cell_type": "code",
   "execution_count": 2,
   "metadata": {
    "collapsed": true
   },
   "outputs": [],
   "source": [
    "with open(\"weather_info.txt\", 'r', encoding=\"utf8\") as f: \n",
    "    weather_dict = {} # use to store all cities and weather info\n",
    "    hist = {} # use to store search history\n",
    "    for line in f: # read one line at a time\n",
    "        b = line.strip('\\n').split(',') # split the string to a list between ',' and strip the \\n at the end\n",
    "        weather_dict[b[0]] = b[1] # put the first item of the list as key and second as value\n",
    "\n",
    "city_list = list(weather_dict.keys()) # make a list of all cities available"
   ]
  },
  {
   "cell_type": "code",
   "execution_count": 3,
   "metadata": {
    "collapsed": true
   },
   "outputs": [],
   "source": [
    "def rem_redn(ini_input):\n",
    "    \"\"\"If the city input is valid but has redundant letter, \n",
    "    remove the letter and return revised input\"\"\"\n",
    "    redu_letter = ['市','县','镇','村','乡','区']\n",
    "    if ini_input[:-1] in city_list and ini_input[-1] in redu_letter: # make sure the input is valid for revision\n",
    "        revi_input = ini_input[:-1] # delete the redundant letter at the end of the string\n",
    "        return revi_input # return the revised version\n",
    "    else:\n",
    "        return ini_input # if not found in weather_dict after the removal, keep the initial one"
   ]
  },
  {
   "cell_type": "code",
   "execution_count": 4,
   "metadata": {
    "collapsed": true
   },
   "outputs": [],
   "source": [
    "def app_help():\n",
    "    \"\"\"This will print out the help readme file when called.\"\"\"\n",
    "    print(\"-\" * 60)\n",
    "    print(\"\\n\" * 2)\n",
    "    print(\"\"\"使用说明\\n\\n\n",
    "    输入城市名称, 查询对应城市天气情况\\n\n",
    "    输入'h'或'help', 查询程序使用说明\\n\n",
    "    输入'history', 查询城市搜索记录\\n\n",
    "    输入'q'或'quit', 退出程序\"\"\")\n",
    "    print(\"\\n\" * 2)\n",
    "    print(\"-\" * 60)"
   ]
  },
  {
   "cell_type": "code",
   "execution_count": 5,
   "metadata": {
    "collapsed": true
   },
   "outputs": [],
   "source": [
    "def app_history():\n",
    "    \"\"\"This function is to print all valid cities inquired.\"\"\"\n",
    "    if hist == {}:\n",
    "        print(\"城市天气查询记录为空。\")\n",
    "    else:\n",
    "        print(\"城市查询历史：\")\n",
    "        for k, v in hist.items():\n",
    "            print(k, \":\", v)"
   ]
  },
  {
   "cell_type": "code",
   "execution_count": 6,
   "metadata": {
    "collapsed": true
   },
   "outputs": [],
   "source": [
    "def show_weather():\n",
    "    \"\"\"To ask user for input of the name of the city and return the pertinent weather info of the city\"\"\"\n",
    "    print(\"请输入中国地区城市名称查询天气情况，如需帮助，请输入'h'或'help‘获取程序使用说明。\")\n",
    "    while True:\n",
    "        user_input = input(\"请输入指令或城市名称：\")\n",
    "        if user_input in [\"help\", \"h\"]:\n",
    "            app_help()\n",
    "        elif user_input == \"history\":\n",
    "            app_history()\n",
    "        elif user_input in [\"quit\",\"q\"]:\n",
    "            break\n",
    "            exit()\n",
    "        else:\n",
    "            rem_redn(user_input) # check first if the revised input can be found in the list\n",
    "            try:\n",
    "                output = weather_dict[rem_redn(user_input)]\n",
    "            except KeyError:\n",
    "                print(\"无法找到相关城市信息，请重新输入。如需帮助，请输入'h'或'help'获取使用指南。\")\n",
    "            else:\n",
    "                print(\"%s的天气状况是%s。\" % (user_input, output))\n",
    "                hist[user_input] = output   "
   ]
  },
  {
   "cell_type": "code",
   "execution_count": 7,
   "metadata": {},
   "outputs": [
    {
     "name": "stdout",
     "output_type": "stream",
     "text": [
      "请输入中国地区城市名称查询天气情况，如需帮助，请输入'h'或'help‘获取程序使用说明。\n",
      "请输入指令或城市名称：天气\n",
      "无法找到相关城市信息，请重新输入。如需帮助，请输入'h'或'help'获取使用指南。\n",
      "请输入指令或城市名称：北京\n",
      "北京的天气状况是晴。\n",
      "请输入指令或城市名称：天津\n",
      "天津的天气状况是多云。\n",
      "请输入指令或城市名称：上海\n",
      "上海的天气状况是小雨。\n",
      "请输入指令或城市名称：长宁区\n",
      "长宁区的天气状况是小雨。\n",
      "请输入指令或城市名称：海淀区\n",
      "海淀区的天气状况是晴。\n",
      "请输入指令或城市名称：help\n",
      "------------------------------------------------------------\n",
      "\n",
      "\n",
      "\n",
      "使用说明\n",
      "\n",
      "\n",
      "    输入城市名称, 查询对应城市天气情况\n",
      "\n",
      "    输入'h'或'help', 查询程序使用说明\n",
      "\n",
      "    输入'history', 查询城市搜索记录\n",
      "\n",
      "    输入'q'或'quit', 退出程序\n",
      "\n",
      "\n",
      "\n",
      "------------------------------------------------------------\n",
      "请输入指令或城市名称：history\n",
      "城市查询历史：\n",
      "北京 : 晴\n",
      "天津 : 多云\n",
      "上海 : 小雨\n",
      "长宁区 : 小雨\n",
      "海淀区 : 晴\n",
      "请输入指令或城市名称：quit\n"
     ]
    }
   ],
   "source": [
    "show_weather()"
   ]
  },
  {
   "cell_type": "code",
   "execution_count": null,
   "metadata": {
    "collapsed": true
   },
   "outputs": [],
   "source": []
  }
 ],
 "metadata": {
  "kernelspec": {
   "display_name": "Python 3",
   "language": "python",
   "name": "python3"
  },
  "language_info": {
   "codemirror_mode": {
    "name": "ipython",
    "version": 3
   },
   "file_extension": ".py",
   "mimetype": "text/x-python",
   "name": "python",
   "nbconvert_exporter": "python",
   "pygments_lexer": "ipython3",
   "version": "3.6.2"
  }
 },
 "nbformat": 4,
 "nbformat_minor": 2
}
