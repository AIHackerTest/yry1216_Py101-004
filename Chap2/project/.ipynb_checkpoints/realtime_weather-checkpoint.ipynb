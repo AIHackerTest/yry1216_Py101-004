{
 "cells": [
  {
   "cell_type": "code",
   "execution_count": 3,
   "metadata": {
    "collapsed": true
   },
   "outputs": [],
   "source": [
    "import requests\n",
    "import json\n",
    "import sys"
   ]
  },
  {
   "cell_type": "code",
   "execution_count": 4,
   "metadata": {
    "collapsed": true
   },
   "outputs": [],
   "source": [
    "def app_help():\n",
    "    \"\"\"This will print out the help readme file when called.\"\"\"\n",
    "    print(\"-\" * 60)\n",
    "    print(\"\"\"使用说明\\n\\n\n",
    "    输入城市名称, 查询对应城市天气情况\\n\n",
    "    输入'h'或'help', 查询程序使用说明\\n\n",
    "    输入'history', 查询城市搜索记录\\n\n",
    "    输入'q'或'quit', 退出程序\"\"\")\n",
    "    print(\"-\" * 60)"
   ]
  },
  {
   "cell_type": "code",
   "execution_count": 5,
   "metadata": {
    "collapsed": true
   },
   "outputs": [],
   "source": [
    "def app_history():\n",
    "    \"\"\"This function is to print all valid cities inquired.\"\"\"\n",
    "    if hist == []:\n",
    "        print(\"城市天气查询记录为空。\")\n",
    "    else:\n",
    "        print(\"城市查询历史：\")\n",
    "        for item in hist:\n",
    "            print(item)"
   ]
  },
  {
   "cell_type": "code",
   "execution_count": 6,
   "metadata": {
    "collapsed": true
   },
   "outputs": [],
   "source": [
    "hist = []\n",
    "def get_weather(city):\n",
    "    appkey = \"jjeovqorokdmdoey\"\n",
    "    api = \"https://api.seniverse.com/v3/weather/now.json\"\n",
    "    value = {\n",
    "        \"key\": appkey,\n",
    "        \"location\": city,\n",
    "        \"language\": \"zh-Hans\",\n",
    "        \"unit\": \"c\"}\n",
    "    r = requests.get(api, params=value, timeout=60)\n",
    "    data = json.loads(r.text)[\"results\"][0]\n",
    "    city_name = data[\"location\"][\"name\"]\n",
    "    weather = data[\"now\"][\"text\"]\n",
    "    temp = data[\"now\"][\"temperature\"]\n",
    "    updatetime = data[\"last_update\"]\n",
    "        \n",
    "    t1 = updatetime.find(\"T\")\n",
    "    t2 = updatetime.find(\"+\")\n",
    "    year_now = updatetime[:t1]\n",
    "    time_now = updatetime[t1+1:t2]\n",
    "    app_result = \"%s的天气是%s, 气温为%s摄氏度, 更新时间: %s %s\" % (city_name, weather, temp, year_now, time_now)\n",
    "    return app_result\n"
   ]
  },
  {
   "cell_type": "code",
   "execution_count": 7,
   "metadata": {},
   "outputs": [
    {
     "name": "stdout",
     "output_type": "stream",
     "text": [
      "欢迎使用天气查询系统\n",
      "------------------------------------------------------------\n",
      "使用说明\n",
      "\n",
      "\n",
      "    输入城市名称, 查询对应城市天气情况\n",
      "\n",
      "    输入'h'或'help', 查询程序使用说明\n",
      "\n",
      "    输入'history', 查询城市搜索记录\n",
      "\n",
      "    输入'q'或'quit', 退出程序\n",
      "------------------------------------------------------------\n",
      "请输入想查询的城市名或指令 >>> help\n",
      "------------------------------------------------------------\n",
      "使用说明\n",
      "\n",
      "\n",
      "    输入城市名称, 查询对应城市天气情况\n",
      "\n",
      "    输入'h'或'help', 查询程序使用说明\n",
      "\n",
      "    输入'history', 查询城市搜索记录\n",
      "\n",
      "    输入'q'或'quit', 退出程序\n",
      "------------------------------------------------------------\n",
      "请输入想查询的城市名或指令 >>> history\n",
      "城市天气查询记录为空。\n",
      "请输入想查询的城市名或指令 >>> ---\n",
      "无法找到相关指令或城市名的信息，请重新输入。如需帮助，请输入'h'或'help'获得使用指南。\n",
      "请输入想查询的城市名或指令 >>> 深圳\n",
      "深圳的天气是晴, 气温为29摄氏度, 更新时间: 2017-08-29 21:40:00\n",
      "请输入想查询的城市名或指令 >>> 北京\n",
      "北京的天气是晴, 气温为21摄氏度, 更新时间: 2017-08-29 21:35:00\n",
      "请输入想查询的城市名或指令 >>> 岳阳\n",
      "岳阳的天气是多云, 气温为24摄氏度, 更新时间: 2017-08-29 21:40:00\n",
      "请输入想查询的城市名或指令 >>> 澧县\n",
      "澧县的天气是阴, 气温为22摄氏度, 更新时间: 2017-08-29 21:40:00\n",
      "请输入想查询的城市名或指令 >>> 上海\n",
      "上海的天气是多云, 气温为26摄氏度, 更新时间: 2017-08-29 21:44:00\n",
      "请输入想查询的城市名或指令 >>> history\n",
      "城市查询历史：\n",
      "深圳的天气是晴, 气温为29摄氏度, 更新时间: 2017-08-29 21:40:00\n",
      "北京的天气是晴, 气温为21摄氏度, 更新时间: 2017-08-29 21:35:00\n",
      "岳阳的天气是多云, 气温为24摄氏度, 更新时间: 2017-08-29 21:40:00\n",
      "澧县的天气是阴, 气温为22摄氏度, 更新时间: 2017-08-29 21:40:00\n",
      "上海的天气是多云, 气温为26摄氏度, 更新时间: 2017-08-29 21:44:00\n",
      "请输入想查询的城市名或指令 >>> q\n",
      "感谢你使用天气查询软件！再见！\n"
     ]
    }
   ],
   "source": [
    "print(\"欢迎使用天气查询系统\")\n",
    "app_help()\n",
    "\n",
    "while True:\n",
    "    user_input = input(\"请输入想查询的城市名或指令 >>> \")\n",
    "    if user_input == \"h\" or user_input == \"help\":\n",
    "        app_help()\n",
    "    elif user_input == \"q\" or user_input == \"quit\":\n",
    "        print(\"感谢你使用天气查询软件！再见！\")\n",
    "        break\n",
    "    elif user_input == \"history\":\n",
    "        app_history()\n",
    "    else:\n",
    "        try:\n",
    "            output = get_weather(user_input)\n",
    "        except KeyError:\n",
    "            print(\"无法找到相关指令或城市名的信息，请重新输入。如需帮助，请输入'h'或'help'获得使用指南。\")\n",
    "        else:\n",
    "            print(output)\n",
    "            hist.append(output)\n",
    "       \n",
    "    \n",
    "        \n",
    "\n",
    "        "
   ]
  }
 ],
 "metadata": {
  "kernelspec": {
   "display_name": "Python 3",
   "language": "python",
   "name": "python3"
  },
  "language_info": {
   "codemirror_mode": {
    "name": "ipython",
    "version": 3
   },
   "file_extension": ".py",
   "mimetype": "text/x-python",
   "name": "python",
   "nbconvert_exporter": "python",
   "pygments_lexer": "ipython3",
   "version": "3.6.2"
  }
 },
 "nbformat": 4,
 "nbformat_minor": 2
}
